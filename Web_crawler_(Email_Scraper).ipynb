{
  "nbformat": 4,
  "nbformat_minor": 0,
  "metadata": {
    "colab": {
      "provenance": [],
      "authorship_tag": "ABX9TyOcUHbJktPUT9YZE2SgJ4mQ",
      "include_colab_link": true
    },
    "kernelspec": {
      "name": "python3",
      "display_name": "Python 3"
    },
    "language_info": {
      "name": "python"
    }
  },
  "cells": [
    {
      "cell_type": "markdown",
      "metadata": {
        "id": "view-in-github",
        "colab_type": "text"
      },
      "source": [
        "<a href=\"https://colab.research.google.com/github/VivekGupta773/Web-crawler-Email-Scraper-/blob/main/Web_crawler_(Email_Scraper).ipynb\" target=\"_parent\"><img src=\"https://colab.research.google.com/assets/colab-badge.svg\" alt=\"Open In Colab\"/></a>"
      ]
    },
    {
      "cell_type": "code",
      "source": [
        "import requests\n",
        "from bs4 import BeautifulSoup\n",
        "import re\n",
        "\n",
        "# Define the URL of the webpage to scrape\n",
        "url = 'https://thapar.edu/sitemap.xml'\n",
        "\n",
        "# Send a GET request to the webpage\n",
        "response = requests.get(url)\n",
        "\n",
        "# Create a BeautifulSoup object to parse the HTML content\n",
        "soup = BeautifulSoup(response.content, 'html.parser')\n",
        "\n",
        "# Find all email addresses on the webpage using regular expressions\n",
        "emails = re.findall(r'[\\w\\.-]+@[\\w\\.-]+', soup.get_text())\n",
        "\n",
        "# Print the extracted email addresses\n",
        "for email in emails:\n",
        "    print(email)\n"
      ],
      "metadata": {
        "id": "60gnY-nqkSVi"
      },
      "execution_count": 18,
      "outputs": []
    },
    {
      "cell_type": "code",
      "source": [],
      "metadata": {
        "id": "eyZhU7hkkSY3"
      },
      "execution_count": null,
      "outputs": []
    }
  ]
}